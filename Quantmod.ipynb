{
 "cells": [
  {
   "cell_type": "markdown",
   "id": "0c709c46-c608-4083-82a6-e40bec1eb78e",
   "metadata": {},
   "source": [
    "#### <font color = lime >  install.packages('quantmod')\n",
    "    \n",
    "#### Current src methods available are: yahoo, google (Google Finance stopped providing data in March, 2018) , MySQL, FRED, csv, RData, oanda, and av.\n",
    "    \n",
    "https://medium.com/financial-data-analysis/using-getsymbols-to-load-financial-data-r-5c3328e802b1"
   ]
  },
  {
   "cell_type": "code",
   "execution_count": null,
   "id": "7e14e589-da84-402e-b7e7-37c78d2efdee",
   "metadata": {
    "vscode": {
     "languageId": "r"
    }
   },
   "outputs": [],
   "source": [
    "library (quantmod)\n",
    "\n",
    "getSymbols(\"AAPL\")"
   ]
  },
  {
   "cell_type": "markdown",
   "id": "80cbdd3f-3719-404e-b9c2-3637cd914514",
   "metadata": {},
   "source": [
    "#### <font color = lime> Function to test (default settings):"
   ]
  },
  {
   "cell_type": "code",
   "execution_count": null,
   "id": "e3471a78-a0ac-4103-b85d-8eb6c1e1d675",
   "metadata": {},
   "outputs": [],
   "source": [
    "getSymbols(Symbols = NULL, \n",
    "           env = parent.frame(),\n",
    "           reload.Symbols = FALSE,\n",
    "           verbose = FALSE,\n",
    "           warnings = TRUE,\n",
    "           src = \"yahoo\",\n",
    "           symbol.lookup = TRUE,\n",
    "           auto.assign = getOption('getSymbols.auto.assign',TRUE)\n",
    "           )"
   ]
  },
  {
   "cell_type": "code",
   "execution_count": null,
   "id": "7029c726-b9f0-45df-a881-67dc2cac303c",
   "metadata": {},
   "outputs": [],
   "source": []
  },
  {
   "cell_type": "markdown",
   "id": "440a76bf-bb79-4ed0-a29a-0780d33c20a9",
   "metadata": {},
   "source": [
    "#### <font color = lime> Downloading data\n",
    "\n",
    "#### Use getSymbols to get data from yahoo or Google (default is yahoo)\n",
    "\n",
    "        getSymbols(\"AAPL\")    \n",
    "        "
   ]
  },
  {
   "cell_type": "code",
   "execution_count": null,
   "id": "f875e47d-24e8-4f56-b74f-6ddfadb09d65",
   "metadata": {},
   "outputs": [],
   "source": [
    "getSymbols(\"AAPL\")\n",
    "AAPL <- last(AAPL,'1 year')\n",
    "str(AAPL)\n"
   ]
  },
  {
   "cell_type": "code",
   "execution_count": null,
   "id": "4da5ff29-d450-47e7-97af-a863cb6cc278",
   "metadata": {},
   "outputs": [],
   "source": [
    "head(AAPL)"
   ]
  },
  {
   "cell_type": "code",
   "execution_count": null,
   "id": "c3b838f6-c140-422f-8753-b6b005de1e67",
   "metadata": {},
   "outputs": [],
   "source": []
  },
  {
   "cell_type": "markdown",
   "id": "82c8d2ec-cf1f-494b-900e-9832aa728e15",
   "metadata": {},
   "source": [
    "#### <font color = lime> Volume over time: weekly, monthly, quarterly and yearly\n",
    "    \n",
    "    Use apply and sum to calculate the rolling sum of volume to each distinct period."
   ]
  },
  {
   "cell_type": "code",
   "execution_count": null,
   "id": "67d348a0-d44a-474e-8911-65b5d988620b",
   "metadata": {},
   "outputs": [],
   "source": [
    "WeekVoYa<- apply.weekly(Vo(AAPL),sum)\n",
    "# sum from Monday to Friday\n",
    "MonthVoYa <- apply.monthly(Vo(AAPL),sum)\n",
    "# sum to month\n",
    "QuarterVoYa <- apply.quarterly(Vo(AAPL),sum)\n",
    "# sum to quarter\n",
    "YearVoYa <- apply.yearly(Vo(AAPL),sum)\n",
    "# sum to year"
   ]
  },
  {
   "cell_type": "code",
   "execution_count": null,
   "id": "21252c08-61d4-41e0-a2da-99209f94720b",
   "metadata": {},
   "outputs": [],
   "source": [
    "head(WeekVoYa)"
   ]
  },
  {
   "cell_type": "markdown",
   "id": "c19e3cdb-0d43-4efa-9802-cf2349f2fe24",
   "metadata": {},
   "source": [
    "#### <font color = lime> In some case, we are interested in average than the sum. Then we can use apply and mean."
   ]
  },
  {
   "cell_type": "code",
   "execution_count": null,
   "id": "efd2363f-7291-4a2b-8656-236b19357b72",
   "metadata": {},
   "outputs": [],
   "source": [
    "WeekAveVoClYa<- apply.weekly(Vo(AAPL),mean)\n",
    "# weekly average volume"
   ]
  },
  {
   "cell_type": "code",
   "execution_count": null,
   "id": "e0461052-e295-4e99-bc5c-1f3b3f091e66",
   "metadata": {},
   "outputs": [],
   "source": []
  },
  {
   "cell_type": "code",
   "execution_count": null,
   "id": "c353502a-4b3f-4545-917e-ad62f529e27c",
   "metadata": {},
   "outputs": [],
   "source": []
  },
  {
   "cell_type": "markdown",
   "id": "143cf397-3be5-4f8d-8b73-55d4e980cfdb",
   "metadata": {},
   "source": [
    "### <font color = lime> Task 1: Load data\n",
    "    \n",
    "#### Define some parameters. \n",
    "- stock_list \n",
    "- start_date\n",
    "- end_date \n",
    "    \n",
    "#### <font color = red> If you don’t specify the start and end date, you will get all the data from the earliest available date to the closest trade date.\n"
   ]
  },
  {
   "cell_type": "code",
   "execution_count": null,
   "id": "8b49a165-3661-48a8-a55b-1624805977ff",
   "metadata": {},
   "outputs": [],
   "source": []
  },
  {
   "cell_type": "code",
   "execution_count": null,
   "id": "fa0bf9cf-8d0b-42dc-b4de-e3a04e88b777",
   "metadata": {},
   "outputs": [],
   "source": []
  },
  {
   "cell_type": "markdown",
   "id": "941a0151-01f4-4fda-8b5b-551adfe6221f",
   "metadata": {},
   "source": [
    "#### <font color = lime> Demonstration\n",
    "    \n",
    "#### Load past daily stock prices including: of 3 stocks - META, AAPL, and GOOG.\n",
    "    \n",
    "- “Open price”, \n",
    "- “High price”, \n",
    "- “Low price”, \n",
    "- “Close price”, \n",
    "- “Volume” \n",
    "- “Adjusted price” \n",
    "    \n",
    "#### Convert daily data to weekly/monthly/other periodic data. Function to test (default settings):\n",
    "    \n",
    "#### https://medium.com/financial-data-analysis/using-getsymbols-to-load-financial-data-r-5c3328e802b1"
   ]
  },
  {
   "cell_type": "code",
   "execution_count": null,
   "id": "db938e05-feb3-4d69-8364-bdbb8facfd46",
   "metadata": {},
   "outputs": [],
   "source": [
    "\n",
    "\n",
    "stock_list <- c(\"META\", \"AAPL\", \"GOOG\")\n",
    "start_date <- Sys.Date()-365                 # One year ago\n",
    "end_date <- Sys.Date()\n",
    "master_df <- NULL\n",
    "for (idx in seq(length(stock_list))){\n",
    "  stock_index = stock_list[idx]\n",
    "  getSymbols(stock_index, verbose = TRUE, src = \"yahoo\", \n",
    "             from=start_date,to=end_date)\n",
    "  temp_df = as.data.frame(get(stock_index))\n",
    "  temp_df$Date = row.names(temp_df)\n",
    "  temp_df$Index = stock_index\n",
    "  row.names(temp_df) = NULL\n",
    "  colnames(temp_df) = c(\"Open\", \"High\", \"Low\", \"Close\", \n",
    "                        \"Volume\", \"Adjusted\", \"Date\", \"Index\")\n",
    "  temp_df = temp_df[c(\"Date\", \"Index\", \"Open\", \"High\", \n",
    "                      \"Low\", \"Close\", \"Volume\", \"Adjusted\")]\n",
    "  master_df = rbind(master_df, temp_df)\n",
    "}"
   ]
  },
  {
   "cell_type": "markdown",
   "id": "b772da20-5cb9-4422-8314-4e4a0424c246",
   "metadata": {},
   "source": [
    "#### <font color = lime> Display the daily data from 1 year ago"
   ]
  },
  {
   "cell_type": "code",
   "execution_count": null,
   "id": "2c1f5f01-9077-4e67-8f4b-cf6cb90bd88f",
   "metadata": {},
   "outputs": [],
   "source": [
    "head(master_df)"
   ]
  },
  {
   "cell_type": "markdown",
   "id": "9871ba63-3fc8-4c69-9e4a-0a0bbd2771ab",
   "metadata": {},
   "source": [
    "#### <font color = lime> Step-by-step Explanation:\n",
    "    \n",
    "- For-loop is used to get the stock data one by one and append them together in a dataframe.\n",
    "-  The data will be automatically loaded as an ‘xts’ (=Extensible Time Series) object and assigned to a dataset using the stock symbol as the data name.\n",
    "- If you need a dataframe structure, you need to use as.data.frame(get(stock_index)) to change the structure.\n",
    "- In the getSymbols statement, verbose = TRUE (default setting is FALSE) is specified as it can show you the downloading process, it is useful when you need to download over hundreds of stock data, it keeps you updated about the progress.\n",
    "- When you successfully import the data, you should see a dataframe"
   ]
  },
  {
   "cell_type": "code",
   "execution_count": null,
   "id": "7e374028-7365-4070-aa5f-8441d7bdb2ee",
   "metadata": {},
   "outputs": [],
   "source": []
  },
  {
   "cell_type": "markdown",
   "id": "4996d3d2-8627-4fa0-b5b2-744876fb99a7",
   "metadata": {},
   "source": [
    "#### <font color = lime> Task 2: Convert daily data to weekly/monthly/other periodic data\n",
    "\n",
    "#### Notice that the data downloaded using getSymbols are daily data. For weekly or monthly data: convert the data.\n",
    "    \n",
    "- to.weekly(stock_symbol)\n",
    "- to.monthly(stock_symbol) \n",
    "\n",
    "#### It is a benefit of xts object. There are other periodic converters as shown below to convert the data. Customize the periodicity by using the last option.\n",
    "    \n",
    "        to.minutes(x,k,name,...)\n",
    "        to.minutes3(x,name,...)\n",
    "        to.minutes5(x,name,...)\n",
    "        to.minutes10(x,name,...)\n",
    "        to.minutes15(x,name,...)\n",
    "        to.minutes30(x,name,...)\n",
    "        to.hourly(x,name,...)\n",
    "        to.daily(x,drop.time=TRUE,name,...)\n",
    "\n",
    "        to.weekly(x,drop.time=TRUE,name,...)\n",
    "        to.monthly(x,indexAt='yearmon',drop.time=TRUE,name,...)\n",
    "        to.quarterly(x,indexAt='yearqtr',drop.time=TRUE,name,...)\n",
    "        to.yearly(x,drop.time=TRUE,name,...)\n",
    "\n",
    "        to.period(x,\n",
    "                  period = 'months', \n",
    "                  k = 1, \n",
    "                  indexAt, \n",
    "                  name=NULL,\n",
    "                  OHLC = TRUE,\n",
    "          ...)"
   ]
  },
  {
   "cell_type": "code",
   "execution_count": null,
   "id": "ab25ed95-9b65-48e0-9171-46e0da5aaba0",
   "metadata": {},
   "outputs": [],
   "source": []
  },
  {
   "cell_type": "markdown",
   "id": "ac12527e-a36f-4360-bba8-858bdbbd0fd8",
   "metadata": {},
   "source": [
    "#### <font color = lime> Change is adding to.weekly before the data class is changed to dataframe."
   ]
  },
  {
   "cell_type": "code",
   "execution_count": null,
   "id": "6c612a13-b119-42af-9627-5df5fff8ef96",
   "metadata": {},
   "outputs": [],
   "source": [
    "stock_list <- c(\"META\", \"AAPL\", \"GOOG\")\n",
    "start_date <- Sys.Date()-365\n",
    "end_date <- Sys.Date()\n",
    "master_df <- NULL\n",
    "for (idx in seq(length(stock_list))){\n",
    "  idx = 1\n",
    "  stock_index = stock_list[idx]\n",
    "  getSymbols(stock_index, verbose = TRUE, src = \"yahoo\", \n",
    "             from=start_date,to=end_date)\n",
    "  temp_df = as.data.frame(to.weekly(get(stock_index)))           # weekly data\n",
    "  temp_df$Date = row.names(temp_df)\n",
    "  temp_df$Index = stock_index\n",
    "  row.names(temp_df) = NULL\n",
    "  colnames(temp_df) = c(\"Open\", \"High\", \"Low\", \"Close\", \n",
    "                        \"Volume\", \"Adjusted\", \"Date\", \"Index\")\n",
    "  temp_df = temp_df[c(\"Date\", \"Index\", \"Open\", \"High\", \n",
    "                      \"Low\", \"Close\", \"Volume\", \"Adjusted\")]\n",
    "  master_df = rbind(master_df, temp_df)\n",
    "}"
   ]
  },
  {
   "cell_type": "markdown",
   "id": "1147067b-9141-4d16-9b2c-2926f0e2ee9b",
   "metadata": {},
   "source": [
    "#### <font color = lime> Display the weekly data from 1 year ago"
   ]
  },
  {
   "cell_type": "code",
   "execution_count": null,
   "id": "cced603e-0ecb-434b-87c9-6425f4f51e13",
   "metadata": {},
   "outputs": [],
   "source": [
    "dim(master_df)\n",
    "head(master_df)"
   ]
  },
  {
   "cell_type": "markdown",
   "id": "e7892122-b6f3-45fe-adc9-0617d830ce98",
   "metadata": {},
   "source": [
    "#### <font color = lime> Currency Values"
   ]
  },
  {
   "cell_type": "code",
   "execution_count": null,
   "id": "534e6103-e4f8-4015-97ac-565b617d0e0f",
   "metadata": {},
   "outputs": [],
   "source": [
    "currency_values <- oanda.currencies\n",
    "str(currency_values)\n",
    "head(currency_values)"
   ]
  },
  {
   "cell_type": "markdown",
   "id": "6412b791-49f6-4012-a73f-bc06f03775bf",
   "metadata": {},
   "source": [
    "#### <font color = lime> Charting"
   ]
  },
  {
   "cell_type": "code",
   "execution_count": null,
   "id": "881b279f-a501-4ce5-aef7-3ad98fc516a0",
   "metadata": {},
   "outputs": [],
   "source": [
    "chartSeries(AAPL,\n",
    "            type=\"line\",\n",
    "            subset='2023',\n",
    "            theme=chartTheme('white'))"
   ]
  },
  {
   "cell_type": "markdown",
   "id": "61344c90-a7f0-4531-ab57-b95068cc07bf",
   "metadata": {},
   "source": [
    "#### <font color = lime> A bar chart that displays stock price of AAPL in May to June"
   ]
  },
  {
   "cell_type": "code",
   "execution_count": null,
   "id": "9d3931b6-2499-461e-9a90-78627f3d3f7d",
   "metadata": {},
   "outputs": [],
   "source": [
    "chartSeries(AAPL,\n",
    "            type=\"bar\",\n",
    "            subset='2022-05::2022-06',\n",
    "            theme=chartTheme('white'))"
   ]
  },
  {
   "cell_type": "markdown",
   "id": "79fd63ad-3a1d-4d19-a4eb-13880d952c16",
   "metadata": {},
   "source": [
    "#### <font color = lime> The candle stick chart displays stock price of AAPL in May only"
   ]
  },
  {
   "cell_type": "code",
   "execution_count": null,
   "id": "5979bc51-d431-422e-8c47-2ec3af89c26e",
   "metadata": {},
   "outputs": [],
   "source": [
    "chartSeries(AAPL,\n",
    "            type=\"candlesticks\",\n",
    "            subset='2022-05',\n",
    "            theme=chartTheme('white'))"
   ]
  },
  {
   "cell_type": "markdown",
   "id": "8f773c6c-67e0-4610-8c1f-ffca5a0f8473",
   "metadata": {},
   "source": [
    "#### <font color = lime> The candle stick chart for a few days"
   ]
  },
  {
   "cell_type": "code",
   "execution_count": null,
   "id": "51e37d33-c871-4ec9-98f7-55498dada4e7",
   "metadata": {},
   "outputs": [],
   "source": [
    "chartSeries(AAPL,\n",
    "            type=\"auto\",\n",
    "            subset='2022-05-10::2022-05-30',\n",
    "            theme=chartTheme('white'))"
   ]
  },
  {
   "cell_type": "code",
   "execution_count": null,
   "id": "c186e3df-6b80-4f02-892b-3fb123571522",
   "metadata": {},
   "outputs": [],
   "source": []
  },
  {
   "cell_type": "code",
   "execution_count": null,
   "id": "f928128b-c285-4b9b-ac1f-636e275bf113",
   "metadata": {},
   "outputs": [],
   "source": []
  },
  {
   "cell_type": "code",
   "execution_count": null,
   "id": "8a820779-70dd-4830-ae78-9d3db922f521",
   "metadata": {},
   "outputs": [],
   "source": []
  }
 ],
 "metadata": {
  "kernelspec": {
   "display_name": "R",
   "language": "R",
   "name": "ir"
  },
  "language_info": {
   "codemirror_mode": "r",
   "file_extension": ".r",
   "mimetype": "text/x-r-source",
   "name": "R",
   "pygments_lexer": "r",
   "version": "4.2.2"
  }
 },
 "nbformat": 4,
 "nbformat_minor": 5
}
