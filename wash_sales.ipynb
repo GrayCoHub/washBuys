{
 "cells": [
  {
   "cell_type": "markdown",
   "id": "8dc8f3fe-adde-4783-a404-86239a60378c",
   "metadata": {},
   "source": [
    "# <font color = yellow> Wash Sales\n",
    "    \n",
    "##### If you sell shares of a stock at a loss and then buy the same or substantially identical stock within 30 days, the wash sale rules may apply. \n",
    "    \n",
    "- If you use the FIFO method, the disallowed loss is added to the cost basis of the replacement shares that were purchased first. \n",
    "- If you use the LIFO method, the disallowed loss is added to the cost basis of the replacement shares that were purchased last. \n",
    "- If you use the average cost basis method, the disallowed loss is added to the cost basis of all shares, including those purchased before and after the sale.   ????"
   ]
  },
  {
   "cell_type": "code",
   "execution_count": null,
   "id": "288a1d26-216d-4de9-bce5-01d332519fbb",
   "metadata": {
    "tags": []
   },
   "outputs": [],
   "source": [
    "library(dplyr)\n",
    "library(lubridate)"
   ]
  },
  {
   "cell_type": "code",
   "execution_count": null,
   "id": "c49efc73-61f6-47d0-9ed5-c40c88bf1281",
   "metadata": {},
   "outputs": [],
   "source": [
    "mySpace <- function () {\n",
    "    print(\"    &nbsp;    \")\n",
    "    }"
   ]
  },
  {
   "cell_type": "code",
   "execution_count": null,
   "id": "9aa6c970-1c1d-4db6-95b8-e6336606e2c0",
   "metadata": {
    "tags": []
   },
   "outputs": [],
   "source": [
    "transactions <- read.csv(file = \"meta2022.csv\", header = FALSE, sep = \",\" )\n",
    "head(transactions)"
   ]
  },
  {
   "cell_type": "code",
   "execution_count": null,
   "id": "79e7c4e4-327e-4cb3-87bc-6778e967a0ea",
   "metadata": {},
   "outputs": [],
   "source": []
  },
  {
   "cell_type": "markdown",
   "id": "05b3c9b9-da31-488f-a959-51bb04e1429e",
   "metadata": {},
   "source": [
    "#### <font color = lime> Add column names.  Use: names( )"
   ]
  },
  {
   "cell_type": "code",
   "execution_count": null,
   "id": "9e7c3bc5-6d75-4ae9-b168-8c50bbab86a4",
   "metadata": {},
   "outputs": [],
   "source": []
  },
  {
   "cell_type": "code",
   "execution_count": null,
   "id": "8a5e8a25-17c3-4406-b44e-1a9758428875",
   "metadata": {},
   "outputs": [],
   "source": [
    "colnoms <- c(\"Date\", \"Quantity\", \"Price\")\n",
    "\n",
    "names(transactions) <- c(colnoms)"
   ]
  },
  {
   "cell_type": "code",
   "execution_count": null,
   "id": "fae7e51e-2969-4e6a-99c3-5d102d0d2fb9",
   "metadata": {},
   "outputs": [],
   "source": [
    "head(transactions, 3)"
   ]
  },
  {
   "cell_type": "markdown",
   "id": "b2f2b6fb-b505-4d88-86c4-6b78cacea730",
   "metadata": {},
   "source": [
    "#### <font color = lime> Add column for for buy or sell "
   ]
  },
  {
   "cell_type": "code",
   "execution_count": null,
   "id": "6a0ad5ca-ee1d-4801-901b-a5315dcdeaac",
   "metadata": {},
   "outputs": [],
   "source": [
    "head(transactions %>% mutate(Trade = ifelse(Quantity > 0, \"Buy\", \"Sell\")) , 2)       # try mutate ()\n",
    "transactions <- transactions %>% mutate(Trade = ifelse(Quantity > 0, \"Buy\", \"Sell\"))   # use mutate ()\n",
    "(\"-------------------------------------------------------------------------\")\n",
    "head(transactions)"
   ]
  },
  {
   "cell_type": "markdown",
   "id": "5494e307-81f1-4fd1-92a1-94dfc9b29be3",
   "metadata": {},
   "source": [
    "#### <font color = lime> Add a column for the transactions (seq 1: length )\n",
    "    "
   ]
  },
  {
   "cell_type": "code",
   "execution_count": null,
   "id": "1818bcdc-651e-4809-9ff1-e7c5545b0afb",
   "metadata": {},
   "outputs": [],
   "source": [
    "trade_ct <- seq(c(1:nrow(transactions)))\n",
    "trade_ct\n",
    "\n",
    "head(transactions %>% mutate(Trans = trade_ct), 2)\n",
    "transactions <- transactions %>% mutate(T_no = trade_ct)\n",
    "(\"---------------------------------------------------------------------------\")\n",
    "head(transactions, 3)"
   ]
  },
  {
   "cell_type": "code",
   "execution_count": null,
   "id": "fe536abb-8eb7-4874-b201-5c405d39bdeb",
   "metadata": {},
   "outputs": [],
   "source": []
  },
  {
   "cell_type": "markdown",
   "id": "3c70cc3e-f4cf-419d-b992-2997c7b1e495",
   "metadata": {},
   "source": [
    "#### <font color = lime> Rearrange the columns in the df. &nbsp; &nbsp; Use the names( ) function \n",
    "    \n",
    "    names(df) <- [, c(1,4,2,3)]\n",
    "    "
   ]
  },
  {
   "cell_type": "code",
   "execution_count": null,
   "id": "d0e4beeb-42a0-4210-b3cb-7282ee25da82",
   "metadata": {},
   "outputs": [],
   "source": [
    "transactions <- transactions[, c(5,1,4,2,3)]\n",
    "head(transactions, 3)"
   ]
  },
  {
   "cell_type": "markdown",
   "id": "64fef36d-3dd7-4713-ac20-e136ec9acddc",
   "metadata": {},
   "source": [
    "#### <font color = lime> Convert the date to is.Date date-time object"
   ]
  },
  {
   "cell_type": "code",
   "execution_count": null,
   "id": "a65b5cd4-6d40-41ee-8451-18cbb21c47d5",
   "metadata": {},
   "outputs": [],
   "source": [
    "transactions$Date <- mdy(transactions$Date)\n",
    "head(transactions, 3)"
   ]
  },
  {
   "cell_type": "code",
   "execution_count": null,
   "id": "18d141c2-145b-45c7-98e7-d07f5e7c9456",
   "metadata": {},
   "outputs": [],
   "source": []
  },
  {
   "cell_type": "markdown",
   "id": "3f350464-6396-418b-8747-d10c712c7a84",
   "metadata": {},
   "source": [
    "### <font color = magenta> Got it where it belongs.  Preserve it.  &nbsp; Create the new data frame named: &nbsp; meta"
   ]
  },
  {
   "cell_type": "code",
   "execution_count": null,
   "id": "ca944ad9-9e05-4df8-94a1-36ef937f7764",
   "metadata": {},
   "outputs": [],
   "source": [
    "meta <- transactions\n",
    "head(meta, 6)"
   ]
  },
  {
   "cell_type": "markdown",
   "id": "fd4dc29e-eadb-4993-a7dd-162aeaa59944",
   "metadata": {},
   "source": [
    "#### <font color = lime> The first Wash Sale event : &nbsp;    T_no 6\n",
    "    \n",
    "- Similar stock was purchased w/in 30 days of sale for a loss\n",
    "- First sale for a loss occurred T_no 3\n",
    "- FIFO rule says the loss is subject to Wash Rules \n",
    "- FIFO - the disallowed Wash Sale loss is added to the cost basis of the replacement shares that were purchased first\n",
    "- FIFO  - disallowed loss added to the cost basis of the replacement shares that were purchased first after the sell transaction."
   ]
  },
  {
   "cell_type": "code",
   "execution_count": null,
   "id": "be698542-9d90-4a29-9928-6fbd5545cc97",
   "metadata": {},
   "outputs": [],
   "source": [
    "fifo <- as.integer(c(rep(0, 20 )))\n",
    "t(fifo)\n",
    "# head(meta %>% mutate(Sold_FIFO = fifo), 2)\n",
    "meta <- meta %>% mutate(FIFO_now = fifo)\n",
    "(\"---------------------------------------------------------------------------\")\n",
    "\n",
    "head(meta, 6)"
   ]
  },
  {
   "cell_type": "code",
   "execution_count": null,
   "id": "f0903013-5ce4-4045-bcba-cbc9f46db3e8",
   "metadata": {},
   "outputs": [],
   "source": []
  },
  {
   "cell_type": "markdown",
   "id": "194f1203-97eb-44e1-a6c3-c5245c06a1dc",
   "metadata": {},
   "source": [
    "### <font color = yellow> Remove the troublesome negative Quantities\n",
    "    \n",
    "    use abs() fct"
   ]
  },
  {
   "cell_type": "code",
   "execution_count": null,
   "id": "78865a7f-bc27-42b7-978c-b7469dbc60b7",
   "metadata": {},
   "outputs": [],
   "source": [
    "meta$Quantity <- abs(meta$Quantity)"
   ]
  },
  {
   "cell_type": "code",
   "execution_count": null,
   "id": "b9f03f9a-a137-4ebf-8b4b-9df0184d10cb",
   "metadata": {},
   "outputs": [],
   "source": []
  },
  {
   "cell_type": "markdown",
   "id": "7616b9e2-f152-4c36-81f4-f5165bdd20a3",
   "metadata": {},
   "source": [
    "#### <font color = lime> Add a Basis column, then add a loss/gain column for FIFO sales\n",
    "    "
   ]
  },
  {
   "cell_type": "code",
   "execution_count": null,
   "id": "3426b3f0-c2a7-4ee2-9263-08e12b0b9a70",
   "metadata": {},
   "outputs": [],
   "source": [
    "head(meta <- meta %>% mutate(Basis = ifelse(!is.na(FIFO_now * Price), c(Quantity * Price), 2)))\n",
    "\n",
    "meta <- meta %>% mutate(FIFO = c(FALSE))                # FIFO\n",
    "\n",
    "\n",
    "meta <- meta %>% mutate(FIFO_go = c(0))     # FICO_now\n",
    "\n",
    "\n",
    "#head(meta %>% mutate(Basis = c(Quantity * Price) ), 2)\n",
    "(\"--------------------------------------------------------------------------------------\")\n",
    "\n",
    "(\"--------------------------------------------------------------------------------------\")\n",
    "meta <- meta %>% mutate(FIFO_bal = c(0))\n",
    "\n",
    "#head(meta %>% mutate(Gain_Loss = c(0.00) ), 2)\n",
    "(\"--------------------------------------------------------------------------------------\")\n",
    "head(meta <- meta %>% mutate(Gain_Loss = c(0.00) ), 3)\n",
    "\n",
    "\n",
    "(\"--------------------------------------------------------------------------------------\")"
   ]
  },
  {
   "cell_type": "code",
   "execution_count": null,
   "id": "e23e275f-2db2-4b75-9be5-b2fe6b3098e3",
   "metadata": {},
   "outputs": [],
   "source": [
    "meta <- meta %>% mutate(WashSale = c(NA))\n",
    "\n",
    "(\"--------------------------------------------------------------------------------------\")\n",
    "\n",
    "meta <- meta %>% mutate(Wash_Loss = c(0.00))"
   ]
  },
  {
   "cell_type": "code",
   "execution_count": null,
   "id": "8be1de45-4f11-4cde-8551-5312484fe416",
   "metadata": {},
   "outputs": [],
   "source": [
    "head(meta, 3)"
   ]
  },
  {
   "cell_type": "code",
   "execution_count": null,
   "id": "418ae8f2-0d58-4c13-820c-99efb5b993a6",
   "metadata": {},
   "outputs": [],
   "source": [
    "(\"--------------------------------------------------------------------------------------\")\n",
    "\n",
    "meta <- meta %>% mutate(Adj_Basis = ifelse(Wash_Loss > 0, Basis + abs(Wash_Loss) + Basis, 0))\n",
    "head(meta, 3)"
   ]
  },
  {
   "cell_type": "code",
   "execution_count": null,
   "id": "1aae52ad-a12a-41d7-bc47-0f0a1da55340",
   "metadata": {},
   "outputs": [],
   "source": []
  },
  {
   "cell_type": "code",
   "execution_count": null,
   "id": "f0087e41-f328-41a5-b6fb-d086e27ee197",
   "metadata": {},
   "outputs": [],
   "source": [
    "mySpace"
   ]
  },
  {
   "cell_type": "markdown",
   "id": "c0e50333-5c7d-4815-84a5-afbce8a1b42a",
   "metadata": {},
   "source": [
    "#### <font color = lime> To format numbers with decimal places and commas - the final things to do, not now\n",
    "    \n",
    "    formatted_x <- format(x, nsmall = 2)\n",
    "    \n",
    "    format(x, big.mark = \",\")\n",
    "                   \n",
    "    round(x, 2) # Truncate to 2 decimal places          \n",
    "    "
   ]
  },
  {
   "cell_type": "code",
   "execution_count": null,
   "id": "dce18af1-2f47-42ee-b94f-549334ff2141",
   "metadata": {},
   "outputs": [],
   "source": [
    "head(meta,14)\n"
   ]
  },
  {
   "cell_type": "markdown",
   "id": "f3cc71a8-5a0f-4eaa-b40c-484bf0a11619",
   "metadata": {},
   "source": [
    "### <font color = lime> FIFO - Sell the oldest 'Buy' first\n",
    "    \n",
    "    In the example you provided, assuming FIFO method, shares purchased before the wash sale event (sell transaction) would be sold first.\n",
    "    Therefore, if the loss from the sell transaction is disallowed due to the wash sale rule, it would be added to the cost basis of the \n",
    "    replacement shares that were purchased first after the sell transaction.\n",
    "    "
   ]
  },
  {
   "cell_type": "markdown",
   "id": "9ccd47b5-d20e-4530-b770-9f83815cb7a6",
   "metadata": {},
   "source": [
    "## <font color = yellow> Function prompts user inputs: Sales transactions: \n",
    "    \n",
    "#### Prompt for input of data associated for each sales transaction (by fifo date): Buy and Sell for each transaction - fifo\n",
    "    \n",
    "        - Use the TRUE / FALSE wash sale input prompt to flag WashSale \n",
    "        - Will need to do similar for LIFO\n",
    "        - Will need to evalutate using the \"avarage\" cost basis, and others"
   ]
  },
  {
   "cell_type": "code",
   "execution_count": null,
   "id": "b5156923-50ef-4674-ac27-7ba84a6af703",
   "metadata": {},
   "outputs": [],
   "source": []
  },
  {
   "cell_type": "code",
   "execution_count": null,
   "id": "4f2747c7-2d59-441c-abbd-cd5b577e6c81",
   "metadata": {
    "tags": []
   },
   "outputs": [],
   "source": [
    "        testForWash <- function () {\n",
    "            if (meta$Date[trans[2]] - meta$Date[trans[1]] <= 30) {\n",
    "                meta$WashSale[trans[2]] == FALSE \n",
    "                print(\"Non Wash Sale\")\n",
    "            }else if (meta$Date[trans[2]] - meta$Date[trans[1]] > 30) {\n",
    "                meta$WashSale[trans[2]] == TRUE \n",
    "                print(\"Wash Sale\")\n",
    "             }\n",
    "         }"
   ]
  },
  {
   "cell_type": "code",
   "execution_count": null,
   "id": "78ec0103-e5ff-4c1f-b40e-369caa3d89be",
   "metadata": {},
   "outputs": [],
   "source": [
    "bookkeeper <- function() {\n",
    "     # append the transaction to the bookkeeping list\n",
    "    cat(\"\\n\", \"In the bookkeeper fct: \", \"\\n\")\n",
    "    cat(\"\\n\", \"The SOLD number is:  \",Sold, \"\\n\")\n",
    "    transaction <- list(\"Sell No: \" = s, \"Buy No: \" = b, \"Shares Sold\" = Sold) \n",
    "    bookkeeping <<- c(bookkeeping, list(transaction))    \n",
    "    }"
   ]
  },
  {
   "cell_type": "code",
   "execution_count": null,
   "id": "7bb212b4-fc96-4cc2-8630-276fd28b27a6",
   "metadata": {},
   "outputs": [],
   "source": [
    "# Global vars - (not all used )\n",
    "\n",
    "trans <- vector()\n",
    "FIFO <- FALSE    # flag variable\n",
    "wsh_sale <- FALSE\n",
    "ct <- 0\n",
    "s <- 0\n",
    "b <- 0\n",
    "regSale <- 0\n",
    "washSale <- vector()\n",
    "gorloss <- 0\n",
    "regSale <- vector()\n",
    "washSale <- vector()\n",
    "bookkeeping <- list()\n",
    "washDate <- \"04/24/23\"\n",
    "Sold <- 0\n",
    "sellAll <- 0\n",
    "carryForward <- 0\n",
    "tally <- 0\n",
    "\n",
    "#  To prompt for the Sell and Buy line numbers\n",
    "sale <- function () {                                                                     # fct \n",
    "    \n",
    "    s <<- as.integer(readline(\"Enter the Sell line number: \"))\n",
    "    b <<- as.integer(readline(\"Enter the Buy line number: \"))\n",
    "       \n",
    "     return(c(s,b))    # interesting return\n",
    "    \n",
    "    } # end fct\n"
   ]
  },
  {
   "cell_type": "code",
   "execution_count": null,
   "id": "ebdab5d1-d7c4-465d-bf88-6ac5f49309be",
   "metadata": {},
   "outputs": [],
   "source": [
    "estWashDate <- function() {\n",
    "    cat(\"The getDate value passed to estWashDate() is: \", getDate, \"\\n\")       # getDate is global var\n",
    "    \n",
    "    startDate <- mdy(getDate)     \n",
    "    startDate <- as.Date(startDate, ordered = format)\n",
    "    str(startDate)\n",
    "   \n",
    "    washDate <- as.Date(startDate + 30)                            # define the starting wash date\n",
    " \n",
    "    print(paste(\"washDate variable will be check Sell dates against any Buy date(s) having losses  \", washDate))        # washDate is global\n",
    "    }"
   ]
  },
  {
   "cell_type": "markdown",
   "id": "604e8d65-0508-4674-93d2-08f0bfa8852b",
   "metadata": {},
   "source": [
    "# <font color = magenta> Input Here # 0\n",
    "    \n",
    "#### Run one time only"
   ]
  },
  {
   "cell_type": "code",
   "execution_count": null,
   "id": "43a65686-3853-40ea-b864-a18b4c2b7f72",
   "metadata": {},
   "outputs": [],
   "source": [
    "getDate <- readline(\"Enter the date of first stock Buy: mo/day/yr: \")\n",
    "estWashDate()                                                                   #fct call"
   ]
  },
  {
   "cell_type": "code",
   "execution_count": null,
   "id": "336714ab-b4a1-41c3-ac09-135fd397cda2",
   "metadata": {},
   "outputs": [],
   "source": []
  },
  {
   "cell_type": "markdown",
   "id": "02d6b008-1e5f-4d1f-8f9e-d43ae0be81ef",
   "metadata": {},
   "source": [
    "### <font color = lime> sale() function ... gets the s and b variables for trans[ s, b ]\n",
    "    \n",
    "#### Processing sales transactions:  \n",
    "    \n",
    "- Run Input Here #0 one time (enter date when program starts). Don't use again.     \n",
    "- Run Input Here #1 (first time), then move below the \"stop\"\n",
    "- At Input Here, #1.5, one time only, in empty cell, \"Run Selected Cell and All Below\".  Don't use 1.5 again.\n",
    "- Return to Input Here #1, run\n",
    "- At Input Here #2, run\n",
    "- Repeat the last 2 steps while the Sell Quantity > Buy Quantity to complete one whole sales transaction\n",
    "- Note: When Sell Quantity < Buy Quantity, or when, Sell Quantity = Buy Quantity, Input # 1 and Input # 2 once to complete a sales transaction\n",
    "\n",
    "#### Big Picture: The functions below the \"stop\" - meaning quants( ), must be intialized after Input Here #1 is first run."
   ]
  },
  {
   "cell_type": "code",
   "execution_count": null,
   "id": "29afc2c3-df57-456f-9035-83a3ff86f57a",
   "metadata": {},
   "outputs": [],
   "source": [
    "# stopps   # intentional code stopper"
   ]
  },
  {
   "cell_type": "markdown",
   "id": "c36fc4b5-3800-4f9f-982d-e440b57f1a34",
   "metadata": {},
   "source": [
    "# <font color = magenta> Input Here # 1 (below)\n",
    "    \n",
    "- Initiates the trans[ s , b ] variable"
   ]
  },
  {
   "cell_type": "code",
   "execution_count": null,
   "id": "c1d8b100-6cac-4eb6-82c6-6450c7c0ef81",
   "metadata": {
    "jp-MarkdownHeadingCollapsed": true,
    "tags": []
   },
   "outputs": [],
   "source": [
    "###### ct <- ct + 1                            \n",
    "# Counter - each time the main function is called\n",
    "\n",
    "trans <- as.numeric(sale())                         # function call\n",
    "# testForWash()                                       # function call\n",
    "\n"
   ]
  },
  {
   "cell_type": "markdown",
   "id": "db1a5daa-c085-4431-89ef-cbd559ec482d",
   "metadata": {
    "tags": []
   },
   "source": [
    "# <font color = magenta> Input Here # 2 (below)\n",
    "    \n",
    "##### <font color = lime> Run quants() after running Input Here # 1.  \n",
    "    \n",
    "- Note: run Input Here #1.5 once, then start the process running Input Here 1, then Input Here 2"
   ]
  },
  {
   "cell_type": "code",
   "execution_count": null,
   "id": "c473916d-1fbe-4987-b423-b43ac0751695",
   "metadata": {
    "tags": []
   },
   "outputs": [],
   "source": [
    "quants()  \n"
   ]
  },
  {
   "cell_type": "markdown",
   "id": "bebd5c57-fe1e-4893-9889-44d2ee343802",
   "metadata": {},
   "source": [
    "# <font color = magenta> Input Here # 1.5, (below)\n",
    "\n",
    "#### In empty cell below, after the initial Sell input in Here #1, run: Run Selected Cell and All Below\n",
    "    \n",
    "- After this is done once, then use Input Here #2"
   ]
  },
  {
   "cell_type": "code",
   "execution_count": null,
   "id": "624e9df8-1c69-414f-ade0-37e3fe47389a",
   "metadata": {},
   "outputs": [],
   "source": []
  },
  {
   "cell_type": "code",
   "execution_count": null,
   "id": "c2c93277-13d4-49fd-baa3-ee0be0997f88",
   "metadata": {
    "tags": []
   },
   "outputs": [],
   "source": [
    "updateQuan2 <- function () {  # trans[s, b ]  [ 1 ,2 ]  when s > b\n",
    "    cat(\"\\n\")\n",
    "    cat(\"\\n\")\n",
    "    print(\"Top of updateQuan2 \")\n",
    "    cat(\"\\n\")\n",
    "    cat(\"Checking the updated trans[1][2] values (updated at bottom of while loop) \", meta$Quantity[trans[1]],  \"and, \", meta$Quantity[trans[2]], \"\\n\")\n",
    "    cat(\"The updated values of, trans[s, b], are critically important being updated at bottom of while loop\", \"\\n\")\n",
    "\n",
    "    transTwo <- as.integer(meta$Quantity[trans[2]]) \n",
    "   \n",
    "    cat(\"\\n\", \"Checking: meta$Trade[trans[2]].  S/B a Buy trade. \", meta$Trade[trans[2]], \"\\n\")             # s/b 50, 100, then 50   gs\n",
    "    \n",
    "    if(meta$Trade[trans[2]] == \"Buy\") {   # must be true\n",
    "        \n",
    "        carryForward <<- meta$Quantity[trans[1]] - meta$Quantity[trans[2]]     # determine the remaining Unsold inventory s - b   (11, 6 )\n",
    "        meta$FIFO_go[trans[1]] <<- carryForward\n",
    "        cat(\"carryForward is meta$Quantity[trans[1]\", trans[1], \" - meta$Quantity[trans[2]\", trans[2], \" carryForward is: \", carryForward, \"\\n\")\n",
    "\n",
    "        Sold <<- meta$Quantity[trans[2]]                                                     # update Sold value used for bookeeper fct\n",
    "        cat(\"Sold is: \", Sold, \"\\n\")\n",
    "        meta$FIFO_bal[trans[2]]  <<- Sold\n",
    "        meta$Quantity[trans[1]] <<-  carryForward                                               # Adj Sell Quantity for each smaller Buy Quanitiy {uses carryForward } gs\n",
    "        meta$Quantity[trans[2]] <<- 0                                                         # zero out the first lot (sold) Buy inventory\n",
    "        \n",
    "       sellAll <<- sellAll - 1                                                                     # reduce sellAll by 1 increment  (used in while loop)\n",
    "       cat(\"sellAll value is: \", sellAll, \"Leaving updateQuan2 going back to gainLoss() \", \"\\n\")    # return to gainloss () fct { if stmt:  when sell > buys }\n",
    "\n",
    "    } # if\n",
    "\n",
    "   } # fct\n",
    "  "
   ]
  },
  {
   "cell_type": "code",
   "execution_count": null,
   "id": "6329846f-8379-4105-806a-55698f81dcd4",
   "metadata": {},
   "outputs": [],
   "source": [
    "bookkeeping \n",
    "Sold"
   ]
  },
  {
   "cell_type": "code",
   "execution_count": null,
   "id": "637df5f6-68c9-4b93-a52f-fa7949a5e4ac",
   "metadata": {
    "tags": []
   },
   "outputs": [],
   "source": [
    "head(meta, 15     \n",
    "    )"
   ]
  },
  {
   "cell_type": "code",
   "execution_count": null,
   "id": "27f8ec5d-f2ea-42c3-bcc7-b6f7661d4352",
   "metadata": {},
   "outputs": [],
   "source": []
  },
  {
   "cell_type": "code",
   "execution_count": null,
   "id": "5e40bab9-b61b-40f7-8f61-d91ebf43b201",
   "metadata": {},
   "outputs": [],
   "source": [
    "s\n",
    "b"
   ]
  },
  {
   "cell_type": "markdown",
   "id": "30134b6c-ee72-44a2-9a34-091a01be4da6",
   "metadata": {
    "tags": []
   },
   "source": [
    "### <font color = yellow> Several functions called from quants() fct"
   ]
  },
  {
   "cell_type": "markdown",
   "id": "488c1318-0e29-450b-8711-11d2caa11060",
   "metadata": {},
   "source": [
    "trans ( 3, 1)"
   ]
  },
  {
   "cell_type": "code",
   "execution_count": null,
   "id": "e402d3d7-802a-46f5-a793-e036c57e898e",
   "metadata": {},
   "outputs": [],
   "source": [
    "# Function is called when stock buy = sell,  { s = b } \n",
    "updateSame <- function() {\n",
    "    Sold <<- meta$Quantity[trans[2]]              # update for bookeeper fct\n",
    "    meta$Quantity[trans[1]] <<- 0                 # zero \n",
    "    meta$Quantity[trans[2]] <<- 0                 # zero \n",
    "    }"
   ]
  },
  {
   "cell_type": "code",
   "execution_count": null,
   "id": "cfd854ad-a15d-495a-87f1-f8fd14f9e264",
   "metadata": {},
   "outputs": [],
   "source": [
    "# When Sell Quan < Buy Quan  { trans[s,b]   s < b }\n",
    "\n",
    "updateQuan <- function() {\n",
    "    \n",
    "    meta$Quantity[trans[2]] <<- meta$Quantity[trans[2]] - meta$Quantity[trans[1]]\n",
    "    cat(\"\\n\")\n",
    "    cat(\"\\n\")\n",
    "    cat(\"INSIDE updateQUAN\", \"\\n\")\n",
    "    cat(\"Buy Quantity is remainder: \", meta$Quantity[trans[2]], \"\\n\")\n",
    "    meta$Basis[2] <<- meta$Price[trans[2]] * meta$Quantity[trans[2]]\n",
    "    Sold <<- meta$Quantity[trans[1]]                                               # update for bookeeper fct\n",
    "    meta$Quantity[trans[1]] <<- 0                                                   # zero the Sell inventory\n",
    "     cat(\"\\n\", \"Leaving updateQuan\", \"\\n\")\n",
    "    return\n",
    "    }\n",
    "\n",
    "# When Sell Quan > Buy Quan  { s > b }   Need to calc  more than one Buy in this fct\n",
    "\n",
    "# Rather than repeting the manual entry for unsold Sell inventory, this should occur automatically until all the sold inv is done."
   ]
  },
  {
   "cell_type": "code",
   "execution_count": null,
   "id": "7c3ec106-8ffd-4ed0-9bd4-acaedc3c5457",
   "metadata": {},
   "outputs": [],
   "source": [
    "meta$Quantity[trans[1]] -  meta$Quantity[trans[2]]"
   ]
  },
  {
   "cell_type": "code",
   "execution_count": null,
   "id": "76fc3ca1-4ada-4409-bc48-3f0092e85fa2",
   "metadata": {
    "tags": []
   },
   "outputs": [],
   "source": [
    "washLoss <- function() {\n",
    "    cat(\"Hello from the washLoss() fct. The variable used in this fct will be washLoss with a value of: \", washLoss,  \"This fct under construction \", \"\\n\") \n",
    "    }\n",
    "\n",
    "check4WashSale <- function() {\n",
    "    cat(\"Hello from the check4WashSale().  The variable used in this fct is wshDate. Value is: \", washDate, \"This fct needs work\", \"\\n\") \n",
    "    }"
   ]
  },
  {
   "cell_type": "code",
   "execution_count": null,
   "id": "8408b510-a0f9-4479-bf39-7204c07a5141",
   "metadata": {},
   "outputs": [],
   "source": [
    "# main fct that calls fcts above.  This fct identifies sale transaction based on user input (FIFO)\n",
    "\n",
    "gainloss <- function(trans) {     #  trans[ s,b ]\n",
    "    \n",
    "   sell1 <<- meta$Quantity[trans[1]]\n",
    "    buy1 <<- meta$Quantity[trans[2]]\n",
    "    \n",
    "   #  dif1 <- is.integer(buy1 - sell1)                # remainder of inventory\n",
    "    \n",
    " #  trans[s,b]   s < b\n",
    "    if(sell1 < buy1 ) {\n",
    "             \n",
    "       updateQuan()                                                                                     # fct call  \n",
    "       bookkeeper()                                                                                     # fct call  \n",
    "       check4WashSale()                                                                                 # fct call  \n",
    "        # fct call\n",
    "        # calculate the gain or loss from sale\n",
    "        gorloss <<- meta$Basis[trans[1]] - meta$Basis[trans[2]]    \n",
    "        meta$Gain_Loss[trans[1]] <<- gorloss                       # update meta\n",
    "        meta$FIFO[trans[2]] <<- TRUE\n",
    "    #}\n",
    "         }\n",
    "    # trans[s,b]   s == b\n",
    "    if(sell1 == buy1) {   \n",
    "         # calculate the gain or loss from sale\n",
    "         gorloss <<- meta$Basis[trans[1]] - meta$Basis[trans[2]]   \n",
    "         meta$Gain_Loss[trans[1]] <<- gorloss \n",
    "         meta$FIFO[trans[2]] <<- FALSE\n",
    "       \n",
    "        updateSame()                                                                                          # fct call  \n",
    "        check4WashSale()                                                                                      # fct call        \n",
    "        bookkeeper()                                                                                          # fct call     \n",
    "        }\n",
    "    \n",
    "    #  trans[s,b]   s > b\n",
    "    if(sell1 > buy1) {\n",
    "        \n",
    "        sellAll <<- as.integer(readline(\" Buy units involved in this Sell?\"))\n",
    "        str(sellAll)\n",
    "        cat(\"\\n\", \"sellAll is: \", sellAll, \"\\n\")\n",
    "          \n",
    "        updateQuan2()                                                                                         # fct call  \n",
    "        bookkeeper()                                                                                          # fct call  (uses Sold)\n",
    "        check4WashSale()                                                                                      # fct call  \n",
    "        \n",
    "        gorloss <<- meta$Basis[trans[1]] - meta$Basis[trans[2]]    \n",
    "        meta$Gain_Loss[trans[2]] <<- gorloss                                                                        # update meta\n",
    "        meta$Quantity[trans[1]] <<- carryForward                      # update the Sell Quantity\n",
    "        \n",
    "        cat(\"Verifying the Sell Quantity (aka carryForward) is adjusted at the bottom of the while loop. \", meta$Quantity[trans[1]], \"\\n\")\n",
    "            # trans[1] <<- trans[1] + 1                                                                    \n",
    "            # trans[2] <<- trans[2] + 1\n",
    "        cat(\"\\n\", \"Leaving updateQuan2: Cheking carryforward value: \", carryForward, \"Check if trans[1][2] properly updated \", trans, \"\\n\")\n",
    "            #   } # while\n",
    "    }  # end if\n",
    "  } # end fct\n",
    "\n",
    "\n",
    "#  Entry fct \n",
    " quants <- function() {\n",
    "    \n",
    " gainloss(trans)                                                                 # call fct\n",
    " return \n",
    " \n",
    " } # end quants"
   ]
  },
  {
   "cell_type": "code",
   "execution_count": null,
   "id": "91284698-ec03-4a81-b6be-735ab2729237",
   "metadata": {},
   "outputs": [],
   "source": [
    "#  stopps   # intentional code stopper"
   ]
  },
  {
   "cell_type": "markdown",
   "id": "63afc5fe-eb56-4edd-b38b-a15d81abbf33",
   "metadata": {},
   "source": [
    "### <font color = yellow> The entry point, quants(), can be tested here outside typical processes"
   ]
  },
  {
   "cell_type": "code",
   "execution_count": null,
   "id": "d5ce602f-0771-4924-8f6a-4d3ca7bdfd83",
   "metadata": {
    "tags": []
   },
   "outputs": [],
   "source": [
    "# main fuction call\n",
    "\n",
    "quants()                                               # function call\n",
    "\n",
    "# cat(\"outside fct\", gorloss)                            # test"
   ]
  },
  {
   "cell_type": "markdown",
   "id": "5f76b870-b0f7-4bc5-a63c-dac9a7bc92d4",
   "metadata": {},
   "source": [
    "# <font color = magenta> Next Input: \n",
    "\n",
    "### <font color = lime> Watch the changes happening with each sale() in the meta output\n",
    "    \n",
    "##### The first sale( ) involved equal quantities of stock in the Buy/Sell.  The quantity for the Buy / Sell equalled,\n",
    "    so the Quantity for each was zeroed.  There was no flag showing under FIFO because they Buy/Sell were \n",
    "    equal sized.   The regular Gain/Loss is shown in the Sell row for this transaction.  It might be a good feature\n",
    "    to keep a record of the specific Buy/Sells involed in each sale for recordkeeping purposes."
   ]
  },
  {
   "cell_type": "code",
   "execution_count": null,
   "id": "1d585c18-0f28-4da7-a60d-975590a07a97",
   "metadata": {
    "tags": []
   },
   "outputs": [],
   "source": [
    "str(bookkeeping)\n",
    "bookkeeping"
   ]
  },
  {
   "cell_type": "code",
   "execution_count": null,
   "id": "9852a0e1-9a0b-4025-a00f-e7d8742ccf25",
   "metadata": {},
   "outputs": [],
   "source": [
    "head(meta,15)"
   ]
  },
  {
   "cell_type": "code",
   "execution_count": null,
   "id": "a1bdd97e-a69d-47c9-a2d7-bd6443b7e2bd",
   "metadata": {},
   "outputs": [],
   "source": [
    "Stopps"
   ]
  },
  {
   "cell_type": "code",
   "execution_count": null,
   "id": "a1c0ee02-49a6-4a64-b031-5e96664698c5",
   "metadata": {},
   "outputs": [],
   "source": [
    "keepClean <- meta\n"
   ]
  },
  {
   "cell_type": "code",
   "execution_count": null,
   "id": "39a17d40-3169-452e-8653-03f33d63aad3",
   "metadata": {},
   "outputs": [],
   "source": [
    "# meta <- keepClean\n"
   ]
  },
  {
   "cell_type": "code",
   "execution_count": null,
   "id": "aa672b16-15f3-4d1f-824a-5121daf702e4",
   "metadata": {},
   "outputs": [],
   "source": [
    "head(meta,10)"
   ]
  },
  {
   "cell_type": "code",
   "execution_count": null,
   "id": "a2f906ed-1c44-41bd-b2bb-c3ba46d3a7e4",
   "metadata": {},
   "outputs": [],
   "source": []
  },
  {
   "cell_type": "code",
   "execution_count": null,
   "id": "214476e7-48c8-4e78-9fb7-0f0d8f531632",
   "metadata": {},
   "outputs": [],
   "source": [
    "In a wash sale, the loss is disallowed if you purchase substantially identical securities within a 61-day window that includes the date of the sale, \n",
    "the 30 days before the sale, and the 30 days after the sale. If the loss is disallowed, you can add the disallowed loss to the cost basis of the replacement shares.\n",
    "\n",
    "In the example you provided, assuming FIFO method, shares purchased before the wash sale event (sell transaction) would be sold first.\n",
    "Therefore, if the loss from the sell transaction is disallowed due to the wash sale rule, it would be added to the cost basis of the \n",
    "replacement shares that were purchased first after the sell transaction.\n",
    "\n",
    "So in the example you provided, the wash sale disallowed loss would be added to the cost basis of the 50 shares purchased on September 6th,\n",
    "since they were the first replacement shares purchased after the sell transaction on August 30th."
   ]
  },
  {
   "cell_type": "markdown",
   "id": "10419f7d-c5de-470a-9d0c-38cc2d48c68e",
   "metadata": {},
   "source": [
    "\n",
    "How much was the disallowed Wash Sale loss? \n",
    "\n",
    "In the example provided, the disallowed Wash Sale loss that would be added to the basis of the shares purchased on \n",
    "September 6th would be the loss from the sell transaction on August 30th, which was at a price of 161.00.\n",
    "\n",
    "Therefore, the cost basis of the 50 shares purchased on September 6th would be adjusted to include the disallowed loss \n",
    "of 100 shares at a cost of $161.00, which is a total adjustment of $16,100.\n",
    "\n",
    "So the new cost basis of the 50 shares purchased on September 6th would be their original cost of $7,977.50 \n",
    "the adjustment of $16,100, which is a total cost basis of $24,077.50."
   ]
  },
  {
   "cell_type": "code",
   "execution_count": null,
   "id": "3ead8125-bf74-4734-862b-d7f3c993a4dd",
   "metadata": {},
   "outputs": [],
   "source": [
    "mySpace"
   ]
  },
  {
   "cell_type": "code",
   "execution_count": null,
   "id": "6fc13677-c219-4628-b1ea-c262c0707e7c",
   "metadata": {},
   "outputs": [],
   "source": []
  }
 ],
 "metadata": {
  "kernelspec": {
   "display_name": "R",
   "language": "R",
   "name": "ir"
  },
  "language_info": {
   "codemirror_mode": "r",
   "file_extension": ".r",
   "mimetype": "text/x-r-source",
   "name": "R",
   "pygments_lexer": "r",
   "version": "4.2.2"
  }
 },
 "nbformat": 4,
 "nbformat_minor": 5
}
