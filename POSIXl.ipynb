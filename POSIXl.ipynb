{
 "cells": [
  {
   "cell_type": "markdown",
   "id": "32109fdd-dff6-4ada-a0a2-ee0697c24674",
   "metadata": {},
   "source": [
    "# <font color = yellow>  No libraries needed\n",
    "    \n",
    "##### <font color = lime>  &nbsp; &nbsp; &nbsp; &nbsp; &nbsp; - A new Jupyter Tip: Use &nbsp_; to add spaces between text in Jupyter. Notice the color?  \n",
    "##### <font color = lime>  &nbsp; &nbsp; &nbsp; &nbsp; &nbsp;  - A Jupyter Reminder Tip: Use ; to prevent displaying output in code cells  "
   ]
  },
  {
   "cell_type": "code",
   "execution_count": null,
   "id": "69560c28-9d2c-4e4b-bd96-eb6b5b71873a",
   "metadata": {},
   "outputs": [],
   "source": [
    "library(lubridate)"
   ]
  },
  {
   "cell_type": "code",
   "execution_count": null,
   "id": "f63ba696-2301-4c18-a887-4f35766a8a97",
   "metadata": {},
   "outputs": [],
   "source": []
  },
  {
   "cell_type": "code",
   "execution_count": null,
   "id": "717000a6-efcf-4d6e-a553-22b72f67ccb9",
   "metadata": {},
   "outputs": [],
   "source": [
    "mySpace <- function () {\n",
    "    print(\"    &nbsp;    \")\n",
    "    }\n"
   ]
  },
  {
   "cell_type": "code",
   "execution_count": null,
   "id": "8c65fd0b-2765-4862-9469-2f240b0b1f99",
   "metadata": {},
   "outputs": [],
   "source": [
    "mySpace()    #  To quickly copy / paste the nb space character"
   ]
  },
  {
   "cell_type": "markdown",
   "id": "c23becca-b8ce-4f81-85b1-950e11f294c0",
   "metadata": {},
   "source": [
    "- This is a bullet point using the Markdown syntax\n",
    "    - This is an indented bullet point using the Markdown syntax\n",
    "- This is a bullet point using the Unicode character: Ctrl + Shift + u 2022\n",
    "- This is a bullet point using HTML entities: &#8226; or &bull;"
   ]
  },
  {
   "cell_type": "markdown",
   "id": "db61d83c-29b7-4c1d-bf8e-7dc91d53bb6b",
   "metadata": {},
   "source": [
    "### <font color = lime> Create a list\n",
    "    \n",
    "- Use the as.types when creating the list variable vectors (else they become logical data types"
   ]
  },
  {
   "cell_type": "code",
   "execution_count": null,
   "id": "898913d4-a1a8-49b8-9045-6cfe99d7383e",
   "metadata": {},
   "outputs": [],
   "source": [
    "# This will work for a single company stock\n",
    "\n",
    "buy_sell <- as.character(vector())\n",
    "stock <- as.character(vector())\n",
    "quantity <- as.integer(vector())\n",
    "date <- as.Date(vector())\n",
    "std_dat <- as.Date(vector())\n"
   ]
  },
  {
   "cell_type": "code",
   "execution_count": null,
   "id": "170d2269-f510-4a65-89f0-a312fe9711db",
   "metadata": {},
   "outputs": [],
   "source": [
    "mystock <- list(buy_sell, stock, quantity, date, std_dat)\n",
    "mystock               #  this displays the four vectors\n",
    "str(mystock)\n",
    "is.vector(mystock)\n",
    "is.list(mystock)\n",
    "       \n"
   ]
  },
  {
   "cell_type": "code",
   "execution_count": null,
   "id": "0bc73b4a-6fa3-4615-a971-4e5847fafc6d",
   "metadata": {},
   "outputs": [],
   "source": [
    "is.Date(mystock$date)  # this is empty, so False\n",
    "is.Date(mystock$std_dat)"
   ]
  },
  {
   "cell_type": "code",
   "execution_count": null,
   "id": "405c4db1-c995-439a-ab4e-e927b06fc12a",
   "metadata": {},
   "outputs": [],
   "source": []
  },
  {
   "cell_type": "markdown",
   "id": "711905ad-9a99-46c2-90c1-680a588d53c7",
   "metadata": {},
   "source": [
    "### <font color = lime> Use the readline( ) fct to enter data, one-time, into the mystock, list\n",
    "    \n",
    "    - Unless the date has been entered in std format ( Year/mo/day), it cannot be coerced using as.Date( )"
   ]
  },
  {
   "cell_type": "code",
   "execution_count": null,
   "id": "432e26fe-3b47-456f-893a-7efd60eaaff9",
   "metadata": {},
   "outputs": [],
   "source": [
    "mystock$buy_sell <- \"Sell\"\n",
    "mystock$stock <- \"Microsoft\"\n",
    "mystock$quantity <- 125\n",
    "mystock$date <- \"04/19/23\"\n",
    "#  mystock$date <- as.Date(\"04/19/23\")       # ERROR - This is \"ambiguous\", cannot use as.Date( ) fct \n",
    "mystock$stdDates <- as.Date(\"2023/04/20\")\n"
   ]
  },
  {
   "cell_type": "code",
   "execution_count": null,
   "id": "70ad2f5c-03c3-4d37-bd0f-d3095b278c8b",
   "metadata": {},
   "outputs": [],
   "source": [
    "str(mystock)"
   ]
  },
  {
   "cell_type": "code",
   "execution_count": null,
   "id": "ec5c45aa-9fe9-4b2d-b9db-e6c6022f651f",
   "metadata": {},
   "outputs": [],
   "source": [
    "is.Date(mystock$stdDates)     #  Req's the lubridate package"
   ]
  },
  {
   "cell_type": "code",
   "execution_count": null,
   "id": "541b5bcb-0f8d-40ed-9cf6-5137a2ce4221",
   "metadata": {},
   "outputs": [],
   "source": []
  },
  {
   "cell_type": "markdown",
   "id": "53faf808-a04b-4391-88ec-343aca369c5d",
   "metadata": {},
   "source": [
    "### <font color = lime>  Date manipulation in base r date-time classes:  POSITct & POSITlt\n",
    "    \n",
    "##### <font color = yellow> Many of the differences from  POSITct and POSITlt and Date objects\n",
    "    \n",
    "    - POSITct { date-time object }\n",
    "        - Stores date-time values as the number of seconds since UNIX epoch (01/01/70). \n",
    "        - Stores as a numeric value with fractional seconds.\n",
    "        - Easy to perform math operations on POSITct time-date values\n",
    "        - Created using the POSIXct ( ) function\n",
    "        - Sys.time() is POSIXct\n",
    "    \n",
    "    - POSITlt  { date-time object }\n",
    "        - Stored date-time values in a list with the components (year, month, day, hour, minute, second, timezone)\n",
    "        - Precision of 1 second\n",
    "        - Created using as.POSIXlt ( )\n",
    "        - This type date-time objects allow for more granular control over the date-time objects.  Not great for math.\n",
    "        - Best when needing specific control of the components of the date-time object\n",
    "    \n",
    "    - Date  { date object }\n",
    "        - Are stored as the number of days since the UNIX epoch.\n",
    "        - Date objects represent dates  - has no time information. \n",
    "        - Stored as integers\n",
    "        - created using the as.Date ( ) fct\n",
    "    \n",
    "    \n",
    "- It's vert easy to add 10 days to one of the as.Date variables: \n",
    "    \n",
    "- With Date objects, the standard unit (adding or subtracting an integer) represents days.  \n",
    "- Some other base r date-time functions : weekday, month, quarter, Julian, and other time functions\n",
    "\n",
    "#### And then there is the strptime() fct"
   ]
  },
  {
   "cell_type": "code",
   "execution_count": null,
   "id": "62f33a22-7e7e-43d3-bb56-a9d1085de37a",
   "metadata": {},
   "outputs": [],
   "source": [
    "is.Date(mystock$stdDates)\n",
    "\n",
    "mystock$stdDates <- mystock$stdDates + 10\n",
    "mystock$stdDates                             # This value increments each time the fct is run"
   ]
  },
  {
   "cell_type": "markdown",
   "id": "761c9d2f-6f72-4a7d-85ff-5836bf629b7f",
   "metadata": {},
   "source": [
    "#### <font color = yellow> Notice how the stdDates variable changed "
   ]
  },
  {
   "cell_type": "code",
   "execution_count": null,
   "id": "1a8123ce-240c-422c-a6d2-51430d5ab795",
   "metadata": {},
   "outputs": [],
   "source": [
    "str(mystock)"
   ]
  },
  {
   "cell_type": "code",
   "execution_count": null,
   "id": "a7ece78c-6775-4031-89be-ad00f88d999b",
   "metadata": {},
   "outputs": [],
   "source": [
    "u <- NULL\n",
    "x <- NULL\n",
    "y <- NULL\n",
    "z <- NULL"
   ]
  },
  {
   "cell_type": "markdown",
   "id": "6c6baf55-5d8a-4df1-b598-e13437531052",
   "metadata": {},
   "source": [
    "### <font color = yellow> The big takeaways: \n",
    "    \n",
    "        - Date and POSIXct are only their own date-time object types.  POSIXlt is also a list object\n",
    "        - Can only use the base:: as.Date( ) fct when the character variable is in the std form (\"year/mo/day\")\n",
    "        - When trying to use as.Date( ) on non-std form (\"unambiguous\"), an error results"
   ]
  },
  {
   "cell_type": "code",
   "execution_count": null,
   "id": "e082c02d-e943-405c-bd97-7cf1a579f6ec",
   "metadata": {},
   "outputs": [],
   "source": [
    "# The Sys.time function and exploring it's date-time structure\n",
    "x <- Sys.time()\n",
    "str(x)\n",
    "is.list(x)\n",
    "is.Date(x)\n",
    "is.POSIXct(x)\n",
    "is.POSIXlt(x)\n",
    "x\n",
    "(\"-----------------------------------------------------\")    # Notice ... Identical: Sys.time() is a POSIXct object\n",
    "# The POSIXct object\n",
    "u <- as.POSIXct(Sys.time())\n",
    "str(u)\n",
    "is.list(u)\n",
    "is.Date(u)\n",
    "is.POSIXct(u)\n",
    "is.POSIXlt(u)\n",
    "u\n",
    "(\"-----------------------------------------------------\")\n",
    "# Date object is not either POSIXlt or POSIXlt objects\n",
    "y <- as.Date(Sys.time())\n",
    "str(y)\n",
    "is.list(y)\n",
    "is.Date(y)\n",
    "is.POSIXct(y)\n",
    "is.POSIXlt(y)\n",
    "y\n",
    "(\"-----------------------------------------------------\")\n",
    "# POSIXlt is a list object\n",
    "z <- as.POSIXlt(Sys.time())\n",
    "str(z)\n",
    "is.list(z)      # is a list\n",
    "is.Date(z)\n",
    "is.POSIXct(z)\n",
    "is.POSIXlt(z)\n",
    "\n",
    "z"
   ]
  },
  {
   "cell_type": "code",
   "execution_count": null,
   "id": "21b448ec-6d17-471a-b992-5fa82b237013",
   "metadata": {},
   "outputs": [],
   "source": [
    "attributes(x)\n",
    "is.list(x)\n",
    "typeof(x)\n",
    "(\"-----------------------------------------------------\")\n",
    "\n",
    "attributes(u)\n",
    "is.list(u)\n",
    "typeof(u)\n",
    "(\"-----------------------------------------------------\")\n",
    "# Date\n",
    "attributes(y)\n",
    "is.list(y)\n",
    "typeof(y)\n",
    "(\"-----------------------------------------------------\")\n",
    "# POSIXlt - the $names are the extractable components of this date-time object\n",
    "attributes(z)\n",
    "is.list(z)\n",
    "typeof(z)"
   ]
  },
  {
   "cell_type": "code",
   "execution_count": null,
   "id": "26bb1c56-13cd-4faf-8795-19476cc2584a",
   "metadata": {},
   "outputs": [],
   "source": [
    "# Create a date-time object\n",
    "my_datetime <- as.POSIXct(\"2023-04-20 14:30:45\")\n",
    "\n",
    "# Extract minutes and seconds using as.POSIXlt()\n",
    "my_datetime_lt <- as.POSIXlt(my_datetime)\n",
    "minutes <- my_datetime_lt$min\n",
    "seconds <- my_datetime_lt$sec\n",
    "\n",
    "# Extract minutes and seconds using strptime()\n",
    "my_datetime_strp <- strptime(my_datetime, \"%Y-%m-%d %H:%M:%S\")\n",
    "minutes <- my_datetime_strp$min\n",
    "seconds <- my_datetime_strp$sec\n",
    "\n",
    "# Extract minutes and seconds using format() or strftime()\n",
    "minutes <- as.numeric(format(my_datetime, \"%M\"))\n",
    "seconds <- as.numeric(format(my_datetime, \"%S\"))"
   ]
  },
  {
   "cell_type": "code",
   "execution_count": null,
   "id": "605e0711-7827-4af0-ad49-b09472089b34",
   "metadata": {},
   "outputs": [],
   "source": [
    "str(minutes)\n",
    "\n",
    "minutes\n",
    "seconds"
   ]
  },
  {
   "cell_type": "code",
   "execution_count": null,
   "id": "9fa9482e-25ca-40e2-bb00-302e4190bdfa",
   "metadata": {},
   "outputs": [],
   "source": [
    "base::typeof"
   ]
  },
  {
   "cell_type": "code",
   "execution_count": null,
   "id": "a4ebf869-be03-4d3f-ab9a-9435ab9a7af0",
   "metadata": {},
   "outputs": [],
   "source": []
  },
  {
   "cell_type": "code",
   "execution_count": null,
   "id": "34258def-9940-42fd-ba49-48248d5bf1d4",
   "metadata": {
    "tags": []
   },
   "outputs": [],
   "source": [
    "?base::weekdays ;    # keep it collapsed"
   ]
  },
  {
   "cell_type": "markdown",
   "id": "1cc83b51-844f-459e-b9e2-5b32b268bd60",
   "metadata": {},
   "source": [
    "### <font color = yellow> Get the date into proper date time format, POSIXct\n",
    "          \n",
    "- Other than using as.Date (Year/mo/day ) in std form, base r doesn't have any handy functions to check if a date is a date other than str ( ) \n",
    "    \n",
    "    - Use the lubridate pkg\n",
    "        - is.Date ( )- \n",
    "        - is.POSIXct ( ) \n",
    "- "
   ]
  },
  {
   "cell_type": "code",
   "execution_count": null,
   "id": "afffa941-a26f-4d03-891b-7774c3c1db25",
   "metadata": {},
   "outputs": [],
   "source": [
    "mystock$date\n",
    "str(mystock$date)\n",
    "is.Date(mystock$date)\n",
    "(\"------------------------------------------\")\n",
    "mystock$stdDates\n",
    "str(mystock$stdDates)\n",
    "is.Date(mystock$stdDates)\n",
    "        \n"
   ]
  },
  {
   "cell_type": "code",
   "execution_count": null,
   "id": "dce5763d-fc68-43f3-aa98-868251ce7b58",
   "metadata": {},
   "outputs": [],
   "source": []
  },
  {
   "cell_type": "code",
   "execution_count": null,
   "id": "f946bc53-00ac-4c3c-972c-d7f33143df8d",
   "metadata": {},
   "outputs": [],
   "source": [
    "library(lubridate)"
   ]
  },
  {
   "cell_type": "code",
   "execution_count": null,
   "id": "355f9e77-9f6f-4b2d-bea7-e5a2d2a782d5",
   "metadata": {},
   "outputs": [],
   "source": [
    "is.POSIXct(mystock$date)\n",
    "is.POSIXct(mystock$stdDates)   #  Hasn't been parsed\n",
    "is.Date(mystock$stdDates)      # base r date time format"
   ]
  },
  {
   "cell_type": "code",
   "execution_count": null,
   "id": "9a5c174b-d669-4e46-9785-30724277e221",
   "metadata": {},
   "outputs": [],
   "source": []
  },
  {
   "cell_type": "markdown",
   "id": "042d609a-b996-492f-ace0-aed6c5e02db7",
   "metadata": {},
   "source": [
    "### <font color = yellow> Explore a POSIXlt time-date object\n",
    "    \n",
    "     - mday() and yday() return the day of the month and day of the year "
   ]
  },
  {
   "cell_type": "code",
   "execution_count": null,
   "id": "c1113332-81cb-4e81-86a6-b81fd8d6cd65",
   "metadata": {},
   "outputs": [],
   "source": [
    "z <- as.POSIXlt(Sys.time())\n",
    "str(z)\n",
    "(\"----------------------------------------\")\n",
    "attributes(z)\n",
    "(\"----------------------------------------\")\n",
    "z"
   ]
  },
  {
   "cell_type": "code",
   "execution_count": null,
   "id": "9643b52a-217a-41a0-9667-60fc961e98c8",
   "metadata": {},
   "outputs": [],
   "source": [
    "z$sec\n",
    "z$min\n",
    "z$hour\n",
    "z$mday    # day of the month\n",
    "z$mon   #  d\n",
    "z$month\n",
    "z$year   # ?\n",
    "(\"----------------------------------------\")\n",
    "z$day    # ?\n",
    "z$qday     # day of the quarter  ????\n",
    "z$wday     # day of the week\n",
    "z$yday    # n'th day of the year ?\n",
    "z$isdst    # daylight saving time ?\n",
    "(\"----------------------------------------\")\n",
    "z$zone\n",
    "z$gmtoff"
   ]
  },
  {
   "cell_type": "code",
   "execution_count": null,
   "id": "79f19f48-a3ac-4d3d-a271-6010bde7ae0f",
   "metadata": {},
   "outputs": [],
   "source": [
    "# Add 10 minutes to the date-time object\n",
    "z$min <- z$min + 10"
   ]
  },
  {
   "cell_type": "code",
   "execution_count": null,
   "id": "7c13e92b-02c2-4a7b-b559-f177fabfcaa4",
   "metadata": {},
   "outputs": [],
   "source": [
    "z"
   ]
  },
  {
   "cell_type": "markdown",
   "id": "deb32ae7-dec0-42c2-a5bc-3bb8212ec712",
   "metadata": {},
   "source": [
    "### <font color = lime> Create a data frame from the list\n",
    "    \n",
    "    - simple enough, just use the '=' and not the '<-'"
   ]
  },
  {
   "cell_type": "code",
   "execution_count": null,
   "id": "0b16f92c-3b02-4c5c-bef8-5165e37d9d26",
   "metadata": {},
   "outputs": [],
   "source": [
    "mystock$date\n",
    "mystock$stdDat"
   ]
  },
  {
   "cell_type": "code",
   "execution_count": null,
   "id": "6df90f97-91ef-4c6a-a3e1-b23275ee17d4",
   "metadata": {},
   "outputs": [],
   "source": [
    "df <- data.frame(transact = as.character(mystock$buy_sell),\n",
    "                 company = as.character(mystock$stock),\n",
    "                 shares = as.integer(mystock$quantity),        #  Is as.Date being blocked by the lubridate pkg?   N0\n",
    "                 # dates = as.Date(mystock$date),              #  as.Date req's std date format (yr / mo / da)\n",
    "                 date = z,\n",
    "                 stdDates = as.Date(mystock$stdDat)\n",
    "                 )\n",
    "df"
   ]
  },
  {
   "cell_type": "code",
   "execution_count": null,
   "id": "44029d6f-b8df-4598-bc01-76f25434e4e6",
   "metadata": {},
   "outputs": [],
   "source": []
  },
  {
   "cell_type": "markdown",
   "id": "077b1a06-3744-4c09-a126-13d5fddc39f8",
   "metadata": {},
   "source": [
    "### <font color = lime> Which is easier to manipulate the date-time object(s)... as a df, or, as a list ???\n",
    "    \n",
    "    What to do ?\n",
    "    \n",
    "    Convert datetime variable to POSIXlt object, add 5 minutes, and convert back to POSIXct object\n"
   ]
  },
  {
   "cell_type": "code",
   "execution_count": null,
   "id": "6858a683-5c69-42dc-8113-c5543638a938",
   "metadata": {},
   "outputs": [],
   "source": [
    "\n"
   ]
  },
  {
   "cell_type": "code",
   "execution_count": null,
   "id": "a567fa49-c710-4808-8c41-61abd1fb41a0",
   "metadata": {},
   "outputs": [],
   "source": [
    "df$date <-  as.POSIXct(as.POSIXlt(df$date + 300))\n",
    "df"
   ]
  },
  {
   "cell_type": "code",
   "execution_count": null,
   "id": "b642543c-aacf-4b2e-a32a-a2d36aa7d83f",
   "metadata": {},
   "outputs": [],
   "source": [
    "str(df)"
   ]
  },
  {
   "cell_type": "code",
   "execution_count": null,
   "id": "95b822b0-15ed-4b2f-ad51-931484fcc071",
   "metadata": {},
   "outputs": [],
   "source": []
  },
  {
   "cell_type": "code",
   "execution_count": null,
   "id": "f45d68e1-ebc9-4a2a-8e9a-f584e298c491",
   "metadata": {},
   "outputs": [],
   "source": [
    "# Example of adding 10 minutes to a data frame's date-time object\n",
    "\n",
    "dt <- data.frame(\n",
    "  datetime = as.POSIXct(\"2022-04-21 14:30:00\")\n",
    ")\n",
    "dt\n",
    "\n",
    "dt$datetime <- as.POSIXct(as.POSIXlt(dt$datetime) + 600)\n",
    "\n",
    "# View the updated data frame\n",
    "print(dt)"
   ]
  },
  {
   "cell_type": "code",
   "execution_count": null,
   "id": "0a17c90a-0dcd-4592-ad2e-4a683bc1174e",
   "metadata": {},
   "outputs": [],
   "source": []
  },
  {
   "cell_type": "code",
   "execution_count": null,
   "id": "d5b5dfdb-fb89-4bfa-b6f0-1c52499a25d8",
   "metadata": {},
   "outputs": [],
   "source": [
    "df$date <- as.POSIXct(as.POSIXlt(df$date + 300))\n",
    "df\n",
    "str(df)"
   ]
  },
  {
   "cell_type": "code",
   "execution_count": null,
   "id": "d69bcdbb-873c-44d9-b201-97564fb26c2a",
   "metadata": {},
   "outputs": [],
   "source": []
  },
  {
   "cell_type": "markdown",
   "id": "5e11445d-ad7d-44f1-9053-ff9dc7052d70",
   "metadata": {},
   "source": [
    "#### <font color = yellow> What happens if the date-time object is not converted back to POSIXct ?\n",
    "    \n",
    "    A. Nothing.  But it's better form to convert back to POSIXct\n"
   ]
  },
  {
   "cell_type": "code",
   "execution_count": null,
   "id": "8bf03bf6-b910-490e-b1db-73731e3e39b1",
   "metadata": {},
   "outputs": [],
   "source": [
    "df$date <- as.POSIXlt(df$date + 300)\n",
    "df\n",
    "str(df)"
   ]
  },
  {
   "cell_type": "code",
   "execution_count": null,
   "id": "12278b28-cfa6-4d11-8ea6-867f106fb1cf",
   "metadata": {},
   "outputs": [],
   "source": [
    "dt$datetime <- as.POSIXlt(dt$datetime) + 600\n",
    "dt\n",
    "str(dt)"
   ]
  },
  {
   "cell_type": "code",
   "execution_count": null,
   "id": "db05b57f-3f95-4955-ac92-b64c3469130b",
   "metadata": {},
   "outputs": [],
   "source": []
  },
  {
   "cell_type": "markdown",
   "id": "8bed9656-fdaf-42c6-8914-104c4d0d48f4",
   "metadata": {},
   "source": [
    "### <font color = lime> More lubridate examples  mdy(\"04/21/23\") .. =>> ... 2023/04/21\n",
    "    \n",
    "    Keep in mind, the parsed time-date variables default to the std year/mo/day format.  Keep in mind, this object\n",
    "    is stored as a numeric value representing the number of seconds since the Unix epoch (January 1, 1970).\n",
    "    \n",
    "\n",
    " - Below, the variable gets parsed into a date-time, POSIXct object, then back into a character string object\n",
    "    \n",
    "    '# Parse a date-time string into a POSIXct object with mdy()\n",
    "    \n",
    "        datetime <- mdy(\"04/21/23\n",
    "            \n",
    "\n",
    "    '# Format the POSIXct object as a character string with a specific format\n",
    "        \n",
    "        formatted_datetime <- format(datetime, \"%m/%d/%Y\")"
   ]
  },
  {
   "cell_type": "code",
   "execution_count": null,
   "id": "e290f69c-02b0-4e47-bc78-bcc910ebf7e6",
   "metadata": {},
   "outputs": [],
   "source": []
  },
  {
   "cell_type": "code",
   "execution_count": null,
   "id": "98f12423-a787-4e6e-961a-8d879acd76f0",
   "metadata": {},
   "outputs": [],
   "source": [
    "test <- \"04/21/2023\"\n",
    "test <- mdy(test)"
   ]
  },
  {
   "cell_type": "code",
   "execution_count": null,
   "id": "247a4ed7-f73a-4b5e-8563-5097bad9ec2c",
   "metadata": {},
   "outputs": [],
   "source": [
    "str(test)"
   ]
  },
  {
   "cell_type": "code",
   "execution_count": null,
   "id": "22081dee-1da6-488d-918b-771987efbf5b",
   "metadata": {},
   "outputs": [],
   "source": []
  },
  {
   "cell_type": "markdown",
   "id": "f74b0101-af50-4ad5-8313-9588b3a6b731",
   "metadata": {},
   "source": [
    "#### <font color = yellow> Using format() to convert POSIXct to text-based, date representation"
   ]
  },
  {
   "cell_type": "code",
   "execution_count": null,
   "id": "5023a9c5-dc08-48f3-82ae-8041c37a209a",
   "metadata": {},
   "outputs": [],
   "source": [
    "datetime <- mdy(\"04/21/23\")\n",
    "\n",
    "# Format the POSIXct object as a character string with a specific format\n",
    "formatted_datetime <- format(datetime, \"%m/%d/%Y\")\n",
    "\n",
    "# Print the formatted date-time string\n",
    "print(formatted_datetime)"
   ]
  },
  {
   "cell_type": "code",
   "execution_count": null,
   "id": "fcccab8d-11ff-4995-9f45-a798a7b909e2",
   "metadata": {},
   "outputs": [],
   "source": [
    "str(datetime)\n",
    "is.POSIXct(datetime)\n",
    "is.POSIXlt(datetime)\n",
    "is.Date(datetime)"
   ]
  },
  {
   "cell_type": "code",
   "execution_count": null,
   "id": "ae19729d-0d8d-4cc5-b7c5-49bfc776095a",
   "metadata": {},
   "outputs": [],
   "source": []
  },
  {
   "cell_type": "markdown",
   "id": "79b02f17-8d91-424a-90b0-d906d09ba4cf",
   "metadata": {},
   "source": [
    "#### <font color = yellow> Parse date-time object to a weekday wday( )  \n",
    "    \n",
    "###### &nbsp;&nbsp; &nbsp; Output shows Levels: an ordered factor with 7 levels: &nbsp;&nbsp; &nbsp;... with 6 being Friday\n",
    "    \n",
    "##### &nbsp;&nbsp; &nbsp; <font color = lime> To remove the Levels: just convert the date-time object to a character vector"
   ]
  },
  {
   "cell_type": "code",
   "execution_count": null,
   "id": "380cae57-069e-459c-9a13-365a8254bc99",
   "metadata": {},
   "outputs": [],
   "source": [
    "test"
   ]
  },
  {
   "cell_type": "code",
   "execution_count": null,
   "id": "d5b5ad69-11fa-47f1-b55c-b0dd43838cc4",
   "metadata": {},
   "outputs": [],
   "source": [
    "wday(test)\n",
    "test_d <- wday(test, label = TRUE)\n",
    "test_d\n",
    "str(test_d)\n",
    "\n",
    "#### The output shows Levels: an ordered factor with 7 levels, with 6 being Friday"
   ]
  },
  {
   "cell_type": "code",
   "execution_count": null,
   "id": "047b0b7e-1bd3-4d62-9ccb-8d99337a9e37",
   "metadata": {},
   "outputs": [],
   "source": [
    "#  Convert the date-time test to a character vector\n",
    "test_c <- as.character(test_d)\n",
    "test_c\n",
    "str(test_c)"
   ]
  },
  {
   "cell_type": "markdown",
   "id": "854372e3-85e4-4019-bbc5-171cff25c165",
   "metadata": {},
   "source": [
    "- This is a bullet point using the Markdown syntax\n",
    "    - This is an indented bullet point using the Markdown syntax\n",
    "- This is a bullet point using the Unicode character: Ctrl + Shift + u 2022\n",
    "- This is a bullet point using HTML entities: &#8226; or &bull;"
   ]
  },
  {
   "cell_type": "code",
   "execution_count": null,
   "id": "e70bb8b0-efa7-4349-974f-42f45d0c322f",
   "metadata": {},
   "outputs": [],
   "source": [
    "# Change the year, the check the day of the week.\n",
    "is.Date(test)\n",
    "test\n",
    "test<- as.POSIXlt(test)\n",
    "str(test)"
   ]
  },
  {
   "cell_type": "code",
   "execution_count": null,
   "id": "e479fc2f-ba57-4493-82ba-542c1c9eb2cb",
   "metadata": {},
   "outputs": [],
   "source": [
    "yr <- year(test)\n",
    "str(yr)"
   ]
  },
  {
   "cell_type": "code",
   "execution_count": null,
   "id": "35595303-988a-46e5-aae6-6e8cb54028cb",
   "metadata": {},
   "outputs": [],
   "source": [
    "test\n",
    "is.POSIXlt(test)\n",
    "newtest <- as.Date(test)   # This works with Date objects, but won't work with date-time objects\n",
    "newtest\n",
    "newtest <- as.POSIXlt(newtest)\n",
    "str(newtest)"
   ]
  },
  {
   "cell_type": "code",
   "execution_count": null,
   "id": "a354ddb2-b82a-40ea-b285-e7a379b85cf4",
   "metadata": {},
   "outputs": [],
   "source": []
  },
  {
   "cell_type": "code",
   "execution_count": null,
   "id": "683b2140-0bbc-4310-95dc-5cfdbea05851",
   "metadata": {},
   "outputs": [],
   "source": []
  },
  {
   "cell_type": "code",
   "execution_count": null,
   "id": "d0683bd5-bc1c-4755-a9c5-99b8ef0fb26f",
   "metadata": {},
   "outputs": [],
   "source": [
    "y <- 2\n",
    "str(y)\n"
   ]
  },
  {
   "cell_type": "code",
   "execution_count": null,
   "id": "7d4dac0c-9fb8-4a53-840a-cc2f0f0c88e4",
   "metadata": {},
   "outputs": [],
   "source": [
    "lastYr <- as.POSIXct(as.POSIXlt(test - 365))\n",
    "lastYr"
   ]
  },
  {
   "cell_type": "code",
   "execution_count": null,
   "id": "0b503792-3d33-46ca-91c5-b6ad2de08501",
   "metadata": {},
   "outputs": [],
   "source": []
  },
  {
   "cell_type": "code",
   "execution_count": null,
   "id": "4cb1622d-80c9-4cff-bb8b-7cc40f298397",
   "metadata": {},
   "outputs": [],
   "source": [
    "lastYr <- NULL"
   ]
  },
  {
   "cell_type": "code",
   "execution_count": null,
   "id": "4670ca4d-74fb-403f-ab43-19017eb1375b",
   "metadata": {},
   "outputs": [],
   "source": [
    "start_date <- NULL\n",
    "end_date <- NULL\n",
    "buy_date <- NULL\n",
    "sell_date <- NULL\n"
   ]
  },
  {
   "cell_type": "code",
   "execution_count": null,
   "id": "44a71bf8-8886-4e31-abd2-7d8ae84fef53",
   "metadata": {},
   "outputs": [],
   "source": [
    "start_date <- ymd(\"2022-04-21\")\n",
    "end_date <- ymd(\"2023-04-21\")\n",
    "\n",
    "str(start_date)\n",
    "is.character(start_date)\n",
    "is.numeric(start_date)\n",
    "typeof(start_date)\n",
    "is.Date(start_date)\n",
    "(\"-----------------------------------------------------\")\n",
    "# Calculate the duration between the start and end dates\n",
    "numDays <- as.numeric(end_date - start_date)\n",
    "\n",
    "# Print the duration in days\n",
    "print(numDays)\n",
    "str(numDays)"
   ]
  },
  {
   "cell_type": "markdown",
   "id": "9fce9178-bb94-4b20-9df2-69e12b0ff09b",
   "metadata": {},
   "source": [
    "### <font color = yellow> The proper way of calculating duration between dates"
   ]
  },
  {
   "cell_type": "code",
   "execution_count": null,
   "id": "66493da2-4e12-4618-9ad1-901844225ad4",
   "metadata": {},
   "outputs": [],
   "source": [
    "# Define the start and end dates\n",
    "end_date <- ymd(\"2023-04-21\")\n",
    "start_date <- end_date - years(1)\n",
    "\n",
    "# Calculate the duration between the start and end dates in days\n",
    "duration_in_days <- as.numeric(difftime(end_date, start_date, units = \"days\"))\n",
    "\n",
    "# Print the duration in days\n",
    "print(duration_in_days)"
   ]
  },
  {
   "cell_type": "markdown",
   "id": "02e74813-b2e4-41d7-871e-c3787480ec65",
   "metadata": {},
   "source": [
    "### <font color = yellow> Using difftime ( ), to calculate the duration between dates (days, hours, minutes, ... )\n",
    "    \n",
    "#### &nbsp; &nbsp; &nbsp; &nbsp; This method creates two Date objects, then uses difftime ( ..., ..., units = \"hours\")"
   ]
  },
  {
   "cell_type": "code",
   "execution_count": null,
   "id": "51249527-0027-4117-93ab-c9d7564a2e27",
   "metadata": {},
   "outputs": [],
   "source": [
    "# Define the start and end dates\n",
    "end_date <- ymd(\"2023-04-21\")\n",
    "str(end_date)\n",
    "typeof(end_date)\n",
    "start_date <- end_date - (months(2) + days(5))\n",
    "str(start_date)\n",
    "\n",
    "# Calculate the duration between the start and end dates in days\n",
    "# duration_in_days <- as.numeric(difftime(end_date, start_date, units = \"days\"))   # don't need as.numeric\n",
    "\n",
    "duration_in_days <- difftime(end_date, start_date, units = \"hours\")\n",
    "# Print the duration in days\n",
    "print(duration_in_days)"
   ]
  },
  {
   "cell_type": "code",
   "execution_count": null,
   "id": "21fb866b-abbf-4a50-b790-5dd31597cfa3",
   "metadata": {},
   "outputs": [],
   "source": []
  },
  {
   "cell_type": "markdown",
   "id": "542c1e6d-250e-4e7d-954a-8389de0cf948",
   "metadata": {},
   "source": [
    "### <font color = yellow> My down and dirty way of determining the duration between dates\n",
    "    \n",
    "#### &nbsp; &nbsp; &nbsp; &nbsp; This method uses two parsed numeric values (type double), and subtracts one from the other (defaults in days)"
   ]
  },
  {
   "cell_type": "code",
   "execution_count": null,
   "id": "9b4490b2-170a-4635-8fcb-6b1c1e22fe29",
   "metadata": {
    "tags": []
   },
   "outputs": [],
   "source": [
    "mySpace"
   ]
  },
  {
   "cell_type": "code",
   "execution_count": null,
   "id": "5d81be7b-6a96-4e97-9e8d-4427957f7541",
   "metadata": {},
   "outputs": [],
   "source": [
    "# Define the start and end dates\n",
    "end_date <- as.numeric(ymd(\"2023-04-21\"))\n",
    "start_date <- as.numeric(ymd(\"2023/02/05\"))\n",
    "\n",
    "# Calculate the duration between the start and end dates in days\n",
    "gap <- end_date - start_date\n",
    "\n",
    "# Print the duration in days\n",
    "gap"
   ]
  },
  {
   "cell_type": "markdown",
   "id": "686160a5-e90e-4ade-89b8-c1622f2a43d0",
   "metadata": {},
   "source": [
    "### <font color = yellow> My down and dirty way matches the same \"proper\" value\n",
    "    \n",
    "#### &nbsp; &nbsp; &nbsp; &nbsp; This method gets a parsed date-time variable, then subtracts days( n ) from this variable\n",
    "    \n",
    "#### Output value confirmed the same by both methods"
   ]
  },
  {
   "cell_type": "code",
   "execution_count": null,
   "id": "4d99b955-b8cd-487a-9d6c-b827c4bf85bb",
   "metadata": {},
   "outputs": [],
   "source": [
    "# Define the start and end dates\n",
    "end_date <- ymd(\"2023-04-21\")\n",
    "start_date <- end_date - days(75)\n",
    "\n",
    "# Calculate the duration between the start and end dates in days\n",
    "duration_in_days <- as.numeric(difftime(end_date, start_date, units = \"days\"))\n",
    "\n",
    "# Print the duration in days\n",
    "print(duration_in_days)"
   ]
  },
  {
   "cell_type": "code",
   "execution_count": null,
   "id": "61f76dc2-bbed-4b05-b97e-019c5d7d8411",
   "metadata": {},
   "outputs": [],
   "source": []
  },
  {
   "cell_type": "markdown",
   "id": "ad11f57f-0a7b-4903-ad3e-744388efe087",
   "metadata": {},
   "source": [
    "### <font color = lime>  Wash Sales\n",
    "    \n",
    "#### If you sell shares of a stock at a loss and then buy the same or substantially identical stock within 30 days, the wash sale rules may apply. \n",
    "    \n",
    "- If you use the FIFO method, the disallowed loss is added to the cost basis of the replacement shares that were purchased first. \n",
    "- If you use the LIFO method, the disallowed loss is added to the cost basis of the replacement shares that were purchased last. \n",
    "- If you use the average cost basis method, the disallowed loss is added to the cost basis of all shares, including those purchased before and after the sale.   ????"
   ]
  },
  {
   "cell_type": "code",
   "execution_count": null,
   "id": "d1744c95-131f-4b45-b201-7fcb0d614037",
   "metadata": {},
   "outputs": [],
   "source": [
    "n <- NULL"
   ]
  },
  {
   "cell_type": "code",
   "execution_count": null,
   "id": "a4739b91-d71f-443a-8637-1f499c1a8b0f",
   "metadata": {},
   "outputs": [],
   "source": [
    "Sys.Date()   # The easiest way to get where I'm going\n",
    "now()\n",
    "(\"---------------------------------------------------\")\n",
    "n <- as.Date(now())  # remove the time components from the now() date-time object\n",
    "                   # is a Date object   \n",
    "str(n)\n",
    "n"
   ]
  },
  {
   "cell_type": "code",
   "execution_count": null,
   "id": "c3510a2c-6557-483f-8db1-cbf3ed7adbbe",
   "metadata": {},
   "outputs": [],
   "source": [
    "buy_date <- mdy(\"09/01/22\")   # create a new variable. Use the mdy() to convert character vector into a Date object\n",
    "str(buy_date)"
   ]
  },
  {
   "cell_type": "code",
   "execution_count": null,
   "id": "3db5ad42-faab-4c19-930a-c25bbae76de1",
   "metadata": {},
   "outputs": [],
   "source": []
  },
  {
   "cell_type": "code",
   "execution_count": null,
   "id": "9ca18368-b36a-4527-bcc1-f0fa20208ed1",
   "metadata": {},
   "outputs": [],
   "source": []
  },
  {
   "cell_type": "code",
   "execution_count": null,
   "id": "5d3f5a00-d596-46e3-80f9-ce0844c9ae5c",
   "metadata": {},
   "outputs": [],
   "source": []
  }
 ],
 "metadata": {
  "kernelspec": {
   "display_name": "R",
   "language": "R",
   "name": "ir"
  },
  "language_info": {
   "codemirror_mode": "r",
   "file_extension": ".r",
   "mimetype": "text/x-r-source",
   "name": "R",
   "pygments_lexer": "r",
   "version": "4.2.2"
  }
 },
 "nbformat": 4,
 "nbformat_minor": 5
}
